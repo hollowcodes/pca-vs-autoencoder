{
 "metadata": {
  "language_info": {
   "codemirror_mode": {
    "name": "ipython",
    "version": 3
   },
   "file_extension": ".py",
   "mimetype": "text/x-python",
   "name": "python",
   "nbconvert_exporter": "python",
   "pygments_lexer": "ipython3",
   "version": "3.8.3-final"
  },
  "orig_nbformat": 2,
  "kernelspec": {
   "name": "python38364bit25637fa70ec841938006e7e40375d78f",
   "display_name": "Python 3.8.3 64-bit"
  }
 },
 "nbformat": 4,
 "nbformat_minor": 2,
 "cells": [
  {
   "cell_type": "markdown",
   "metadata": {},
   "source": [
    "# This notebook compares two dimensionality reduction techniques: Autoencoders and principle-component-analysis"
   ]
  },
  {
   "cell_type": "markdown",
   "metadata": {},
   "source": [
    "### In [autoencoder/](autoencoder/) I created an encoder-decoder model which has a bottleneck layer of two neurons. The 2d bottlenecks of all train samples are saved here: [autoencoder/iris_reduced.json](autoencoder/iris_reduced.json)\n",
    "\n",
    "<details>\n",
    "<summary>Click to see autoencoder architecture</summary>\n",
    "<p align=\"center\"> \n",
    "<img src=\"notebook_images/architecture.png\">\n",
    "</p>\n",
    "</details>\n",
    "\n",
    "### In [principal-component-analysis/](principal-component-analysis/) I used sklearns PCA function to create 2d projections of the dataset samples. The 2d projections of all train samples are saved here: [principal-component-analysis/iris_reduced.json](principal-component-analysis/iris_reduced.json)"
   ]
  },
  {
   "cell_type": "code",
   "execution_count": 1,
   "metadata": {},
   "outputs": [],
   "source": [
    "import matplotlib.pyplot as plt\n",
    "import numpy as np\n",
    "import json\n",
    "\n",
    "# load 2d bottlenecks from autoencoder\n",
    "with open(\"autoencoder/iris_reduced.json\", \"r\") as f:\n",
    "    autoencoder_reduced_dataset = json.load(f)\n",
    "\n",
    "# load 2d projection\n",
    "with open(\"principal-component-analysis/iris_reduced.json\", \"r\") as f:\n",
    "    pca_reduced_dataset = json.load(f)"
   ]
  },
  {
   "cell_type": "code",
   "execution_count": null,
   "metadata": {},
   "outputs": [],
   "source": []
  },
  {
   "cell_type": "markdown",
   "metadata": {},
   "source": []
  }
 ]
}